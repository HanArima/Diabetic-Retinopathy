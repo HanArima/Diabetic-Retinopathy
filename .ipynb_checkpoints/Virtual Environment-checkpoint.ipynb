{
 "cells": [
  {
   "cell_type": "markdown",
   "id": "e8ae06f5",
   "metadata": {},
   "source": [
    "## Creating a virtual Environment"
   ]
  },
  {
   "cell_type": "code",
   "execution_count": null,
   "id": "a5dd548c",
   "metadata": {},
   "outputs": [],
   "source": [
    "!pip install virtualenv"
   ]
  },
  {
   "cell_type": "code",
   "execution_count": null,
   "id": "71acc145",
   "metadata": {},
   "outputs": [],
   "source": [
    "virtualenv .venv"
   ]
  },
  {
   "cell_type": "markdown",
   "id": "4f56643f",
   "metadata": {},
   "source": [
    "This will show an error mostly, use the other command written below for the creation of virtual environment."
   ]
  },
  {
   "cell_type": "code",
   "execution_count": null,
   "id": "3939cd1c",
   "metadata": {},
   "outputs": [],
   "source": [
    "!python -m venv .venv"
   ]
  },
  {
   "cell_type": "code",
   "execution_count": null,
   "id": "9a05b1bc",
   "metadata": {},
   "outputs": [],
   "source": [
    "!.\\.venv\\Scripts\\activate"
   ]
  },
  {
   "cell_type": "code",
   "execution_count": null,
   "id": "8a77b90e",
   "metadata": {},
   "outputs": [],
   "source": [
    "!python --version"
   ]
  },
  {
   "cell_type": "code",
   "execution_count": null,
   "id": "87221883",
   "metadata": {},
   "outputs": [],
   "source": [
    "!pip list"
   ]
  },
  {
   "cell_type": "markdown",
   "id": "e302d241",
   "metadata": {},
   "source": [
    "## Installing Timm in the virtual Environment"
   ]
  },
  {
   "cell_type": "code",
   "execution_count": null,
   "id": "5f83b297",
   "metadata": {},
   "outputs": [],
   "source": [
    "!pip install --trusted-host pypi.python.org timm"
   ]
  },
  {
   "cell_type": "code",
   "execution_count": null,
   "id": "1ce8ed97",
   "metadata": {},
   "outputs": [],
   "source": [
    "!pip show tbb"
   ]
  },
  {
   "cell_type": "code",
   "execution_count": null,
   "id": "c37ad7f6",
   "metadata": {},
   "outputs": [],
   "source": [
    "!pip install timm"
   ]
  },
  {
   "cell_type": "code",
   "execution_count": null,
   "id": "78512bf3",
   "metadata": {},
   "outputs": [],
   "source": [
    "import timm"
   ]
  },
  {
   "cell_type": "code",
   "execution_count": null,
   "id": "2e243ab4",
   "metadata": {},
   "outputs": [],
   "source": [
    "!pip list "
   ]
  },
  {
   "cell_type": "code",
   "execution_count": null,
   "id": "a35605b6",
   "metadata": {},
   "outputs": [],
   "source": [
    "!pip uninstall timm"
   ]
  },
  {
   "cell_type": "code",
   "execution_count": null,
   "id": "4ac2b898",
   "metadata": {},
   "outputs": [],
   "source": []
  }
 ],
 "metadata": {
  "kernelspec": {
   "display_name": "Python 3 (ipykernel)",
   "language": "python",
   "name": "python3"
  },
  "language_info": {
   "codemirror_mode": {
    "name": "ipython",
    "version": 3
   },
   "file_extension": ".py",
   "mimetype": "text/x-python",
   "name": "python",
   "nbconvert_exporter": "python",
   "pygments_lexer": "ipython3",
   "version": "3.9.12"
  }
 },
 "nbformat": 4,
 "nbformat_minor": 5
}
